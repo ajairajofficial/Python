{
  "cells": [
    {
      "cell_type": "raw",
      "metadata": {
        "vscode": {
          "languageId": "raw"
        }
      },
      "source": [
        "# Solving Polynomial Equations in Python\n",
        "\n",
        "In this tutorial, we'll learn how to solve systems of linear equations (polynomial equations) using Python. We'll explore different methods:\n",
        "\n",
        "1. Using NumPy (recommended for linear equations)\n",
        "2. Using SymPy (for symbolic mathematics)\n",
        "3. Using traditional algebraic methods\n",
        "\n",
        "Let's start with a simple system of equations:\n",
        "```\n",
        "3x + 4y = 10\n",
        "4x + 5y = 12\n",
        "```\n",
        "\n",
        "### Installation Requirements\n",
        "```bash\n",
        "pip install numpy sympy\n"
      ]
    },
    {
      "cell_type": "raw",
      "metadata": {},
      "source": [
        "## Summary\n",
        "\n",
        "We've explored three main methods for solving polynomial equations in Python:\n",
        "\n",
        "1. **NumPy Method**\n",
        "   - Best for systems of linear equations\n",
        "   - Fast and efficient\n",
        "   - Returns numerical solutions\n",
        "   - Good for large systems of equations\n",
        "\n",
        "2. **SymPy Method**\n",
        "   - Best for symbolic mathematics\n",
        "   - Can handle complex polynomial equations\n",
        "   - Returns exact solutions\n",
        "   - Can solve non-linear systems\n",
        "   - Shows steps (if requested)\n",
        "\n",
        "3. **Traditional Algebraic Method**\n",
        "   - Good for understanding the mathematical process\n",
        "   - Can be customized for specific needs\n",
        "   - More verbose but educational\n",
        "   - Limited to simpler systems\n",
        "\n",
        "### Best Practices\n",
        "1. Use NumPy for simple linear systems when numerical solutions are sufficient\n",
        "2. Use SymPy for:\n",
        "   - Complex polynomial equations\n",
        "   - When exact solutions are needed\n",
        "   - When symbolic manipulation is required\n",
        "3. Use traditional methods for educational purposes or when you need to understand the process\n",
        "\n",
        "### Installation Requirements\n",
        "```bash\n",
        "pip install numpy sympy\n",
        "```\n"
      ]
    },
    {
      "cell_type": "code",
      "execution_count": 1,
      "metadata": {},
      "outputs": [
        {
          "name": "stdout",
          "output_type": "stream",
          "text": [
            "Solution using NumPy:\n",
            "x = -2.00\n",
            "y = 4.00\n",
            "\n",
            "Verifying the solution:\n",
            "3x + 4y = 10.00\n",
            "4x + 5y = 12.00\n"
          ]
        }
      ],
      "source": [
        "# Method 1: Using NumPy\n",
        "import numpy as np\n",
        "\n",
        "# Define the coefficients matrix A\n",
        "A = np.array([[3, 4],    # Coefficients of x and y in first equation\n",
        "              [4, 5]])    # Coefficients of x and y in second equation\n",
        "\n",
        "# Define the constants vector b\n",
        "b = np.array([10, 12])    # Constants from right side of equations\n",
        "\n",
        "# Solve the system of equations\n",
        "solution = np.linalg.solve(A, b) #np.linalg.solve is used to solve the system of equations\n",
        "\n",
        "print(\"Solution using NumPy:\")\n",
        "print(f\"x = {solution[0]:.2f}\") #solution[0] is the x value and solution[1] is the y value\n",
        "print(f\"y = {solution[1]:.2f}\")\n",
        "\n",
        "# Verify the solution\n",
        "print(\"\\nVerifying the solution:\")\n",
        "print(f\"3x + 4y = {3*solution[0] + 4*solution[1]:.2f}\")  # Should be 10\n",
        "print(f\"4x + 5y = {4*solution[0] + 5*solution[1]:.2f}\")  # Should be 12\n"
      ]
    },
    {
      "cell_type": "raw",
      "metadata": {
        "vscode": {
          "languageId": "raw"
        }
      },
      "source": [
        "## Method 2: Using SymPy\n",
        "\n",
        "SymPy is a library for symbolic mathematics. It's particularly useful when you want to:\n",
        "- Work with symbolic variables\n",
        "- Get exact solutions (not numerical approximations)\n",
        "- Solve more complex polynomial equations\n",
        "- Show the step-by-step solution process\n"
      ]
    },
    {
      "cell_type": "code",
      "execution_count": 2,
      "metadata": {},
      "outputs": [
        {
          "name": "stdout",
          "output_type": "stream",
          "text": [
            "Solution using SymPy:\n",
            "x = -2\n",
            "y = 4\n",
            "\n",
            "Numerical values:\n",
            "x = -2.00\n",
            "y = 4.00\n",
            "\n",
            "Verifying the solution:\n",
            "3x + 4y = 10.00\n",
            "4x + 5y = 12.00\n"
          ]
        }
      ],
      "source": [
        "# Method 2: Using SymPy\n",
        "from sympy import symbols, solve, Eq\n",
        "\n",
        "# Define the variables\n",
        "x, y = symbols('x y')\n",
        "\n",
        "# Define the equations\n",
        "eq1 = Eq(3*x + 4*y, 10)\n",
        "eq2 = Eq(4*x + 5*y, 12)\n",
        "\n",
        "# Solve the system of equations\n",
        "solution = solve((eq1, eq2), (x, y))\n",
        "\n",
        "print(\"Solution using SymPy:\")\n",
        "print(f\"x = {solution[x]}\")\n",
        "print(f\"y = {solution[y]}\")\n",
        "\n",
        "# Convert to float for numerical values\n",
        "x_val = float(solution[x])\n",
        "y_val = float(solution[y])\n",
        "\n",
        "print(\"\\nNumerical values:\")\n",
        "print(f\"x = {x_val:.2f}\")\n",
        "print(f\"y = {y_val:.2f}\")\n",
        "\n",
        "# Verify the solution\n",
        "print(\"\\nVerifying the solution:\")\n",
        "print(f\"3x + 4y = {3*x_val + 4*y_val:.2f}\")  # Should be 10\n",
        "print(f\"4x + 5y = {4*x_val + 5*y_val:.2f}\")  # Should be 12\n"
      ]
    },
    {
      "cell_type": "raw",
      "metadata": {
        "vscode": {
          "languageId": "raw"
        }
      },
      "source": [
        "## Method 3: Traditional Algebraic Method\n",
        "\n",
        "We can also solve the system of equations using traditional algebraic methods like substitution or elimination. This approach helps understand the mathematical process better, though it's less practical for larger systems of equations.\n"
      ]
    },
    {
      "cell_type": "code",
      "execution_count": 3,
      "metadata": {},
      "outputs": [
        {
          "name": "stdout",
          "output_type": "stream",
          "text": [
            "Solution using traditional method:\n",
            "x = -2.00\n",
            "y = 4.00\n",
            "\n",
            "Verifying the solution:\n",
            "3x + 4y = 10.00\n",
            "4x + 5y = 12.00\n",
            "\n",
            "Solving another example:\n",
            "2x + 3y = 8\n",
            "5x - 2y = 1\n",
            "\n",
            "x = 1.00\n",
            "y = 2.00\n",
            "\n",
            "Verifying the solution:\n",
            "2x + 3y = 8.00\n",
            "5x - 2y = 1.00\n"
          ]
        }
      ],
      "source": [
        "# Method 3: Traditional algebraic method (elimination)\n",
        "def solve_equations_manually(a1, b1, c1, a2, b2, c2):\n",
        "    \"\"\"\n",
        "    Solve a system of linear equations using elimination method:\n",
        "    a1x + b1y = c1\n",
        "    a2x + b2y = c2\n",
        "    \"\"\"\n",
        "    # Multiply first equation by b2 and second equation by b1\n",
        "    eq1_new = [a1 * b2, b1 * b2, c1 * b2]  # b2(a1x + b1y = c1)\n",
        "    eq2_new = [a2 * b1, b2 * b1, c2 * b1]  # b1(a2x + b2y = c2)\n",
        "    \n",
        "    # Subtract equations to eliminate y\n",
        "    x = (eq1_new[2] - eq2_new[2]) / (eq1_new[0] - eq2_new[0])\n",
        "    \n",
        "    # Substitute x back into original equation to find y\n",
        "    y = (c1 - a1 * x) / b1\n",
        "    \n",
        "    return x, y\n",
        "\n",
        "# Solve our system of equations:\n",
        "# 3x + 4y = 10\n",
        "# 4x + 5y = 12\n",
        "x, y = solve_equations_manually(3, 4, 10, 4, 5, 12)\n",
        "\n",
        "print(\"Solution using traditional method:\")\n",
        "print(f\"x = {x:.2f}\")\n",
        "print(f\"y = {y:.2f}\")\n",
        "\n",
        "# Verify the solution\n",
        "print(\"\\nVerifying the solution:\")\n",
        "print(f\"3x + 4y = {3*x + 4*y:.2f}\")  # Should be 10\n",
        "print(f\"4x + 5y = {4*x + 5*y:.2f}\")  # Should be 12\n",
        "\n",
        "# Let's solve another example:\n",
        "print(\"\\nSolving another example:\")\n",
        "print(\"2x + 3y = 8\")\n",
        "print(\"5x - 2y = 1\")\n",
        "\n",
        "x, y = solve_equations_manually(2, 3, 8, 5, -2, 1)\n",
        "print(f\"\\nx = {x:.2f}\")\n",
        "print(f\"y = {y:.2f}\")\n",
        "\n",
        "# Verify\n",
        "print(\"\\nVerifying the solution:\")\n",
        "print(f\"2x + 3y = {2*x + 3*y:.2f}\")  # Should be 8\n",
        "print(f\"5x - 2y = {5*x - 2*y:.2f}\")  # Should be 1\n"
      ]
    },
    {
      "cell_type": "raw",
      "metadata": {
        "vscode": {
          "languageId": "raw"
        }
      },
      "source": [
        "## Solving More Complex Polynomial Equations\n",
        "\n",
        "For more complex polynomial equations (quadratic, cubic, etc.), SymPy is particularly useful. Here are some examples:\n"
      ]
    },
    {
      "cell_type": "code",
      "execution_count": 4,
      "metadata": {},
      "outputs": [
        {
          "name": "stdout",
          "output_type": "stream",
          "text": [
            "Quadratic equation x² + 5x + 6 = 0:\n",
            "Solutions: x = [-3, -2]\n",
            "\n",
            "Cubic equation x³ - 6x² + 11x - 6 = 0:\n",
            "Solutions: x = [1, 2, 3]\n",
            "\n",
            "System of quadratic equations:\n",
            "x² + y² = 25\n",
            "y = x²\n",
            "Solutions:\n",
            "x = -sqrt(-1/2 + sqrt(101)/2), y = -1/2 + sqrt(101)/2\n",
            "x = sqrt(-1/2 + sqrt(101)/2), y = -1/2 + sqrt(101)/2\n",
            "x = -sqrt(-sqrt(101)/2 - 1/2), y = -sqrt(101)/2 - 1/2\n",
            "x = sqrt(-sqrt(101)/2 - 1/2), y = -sqrt(101)/2 - 1/2\n",
            "\n",
            "Polynomial equation x⁴ - 5x² + 4 = 0:\n",
            "Solutions:\n",
            "x = -2.0\n",
            "x = -1.0\n",
            "x = 1.0\n",
            "x = 2.0\n"
          ]
        }
      ],
      "source": [
        "from sympy import solve, symbols, Eq\n",
        "\n",
        "# Define variable\n",
        "x = symbols('x') #symbols is used to define the variable\n",
        "\n",
        "# Solve a quadratic equation: x² + 5x + 6 = 0\n",
        "quadratic = x**2 + 5*x + 6\n",
        "quad_solution = solve(quadratic, x)\n",
        "print(\"Quadratic equation x² + 5x + 6 = 0:\")\n",
        "print(f\"Solutions: x = {quad_solution}\")\n",
        "\n",
        "# Solve a cubic equation: x³ - 6x² + 11x - 6 = 0\n",
        "cubic = x**3 - 6*x**2 + 11*x - 6\n",
        "cubic_solution = solve(cubic, x)\n",
        "print(\"\\nCubic equation x³ - 6x² + 11x - 6 = 0:\")\n",
        "print(f\"Solutions: x = {cubic_solution}\")\n",
        "\n",
        "# System of quadratic equations\n",
        "x, y = symbols('x y')\n",
        "eq1 = Eq(x**2 + y**2, 25)    # x² + y² = 25 (circle)\n",
        "eq2 = Eq(y, x**2)            # y = x² (parabola)\n",
        "\n",
        "solutions = solve((eq1, eq2), (x, y))\n",
        "print(\"\\nSystem of quadratic equations:\")\n",
        "print(\"x² + y² = 25\")\n",
        "print(\"y = x²\")\n",
        "print(\"Solutions:\")\n",
        "for sol in solutions:\n",
        "    print(f\"x = {sol[0]}, y = {sol[1]}\")\n",
        "\n",
        "# Convert complex solutions to real numbers where applicable\n",
        "def format_solution(sol):\n",
        "    try:\n",
        "        return float(sol)\n",
        "    except:\n",
        "        return sol\n",
        "\n",
        "# Solving a polynomial equation with real and complex roots\n",
        "poly = x**4 - 5*x**2 + 4\n",
        "poly_solutions = solve(poly, x)\n",
        "print(\"\\nPolynomial equation x⁴ - 5x² + 4 = 0:\")\n",
        "print(\"Solutions:\")\n",
        "for sol in poly_solutions:\n",
        "    print(f\"x = {format_solution(sol)}\")\n"
      ]
    }
  ],
  "metadata": {
    "kernelspec": {
      "display_name": "Python 3",
      "language": "python",
      "name": "python3"
    },
    "language_info": {
      "codemirror_mode": {
        "name": "ipython",
        "version": 3
      },
      "file_extension": ".py",
      "mimetype": "text/x-python",
      "name": "python",
      "nbconvert_exporter": "python",
      "pygments_lexer": "ipython3",
      "version": "3.12.7"
    }
  },
  "nbformat": 4,
  "nbformat_minor": 2
}
